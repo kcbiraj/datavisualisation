{
 "cells": [
  {
   "cell_type": "code",
   "execution_count": 5,
   "id": "4ea95863-93a4-40f8-881b-1540470700f5",
   "metadata": {},
   "outputs": [],
   "source": [
    "# Importing Required Libraries\n",
    "import pandas as pd\n",
    "import plotly.express as px\n",
    "import dash\n",
    "from dash import dcc\n",
    "from dash import html"
   ]
  },
  {
   "cell_type": "code",
   "execution_count": 10,
   "id": "0ba5cab8-8d81-4705-b51e-4e364054fe83",
   "metadata": {},
   "outputs": [],
   "source": [
    "# Reading the airline data into pandas dataframe\n",
    "\n",
    "airline_data =  pd.read_csv('https://cf-courses-data.s3.us.cloud-object-storage.appdomain.cloud/IBMDeveloperSkillsNetwork-DV0101EN-SkillsNetwork/Data%20Files/airline_data.csv', \n",
    "                            encoding = \"ISO-8859-1\",\n",
    "                            dtype={'Div1Airport': str, 'Div1TailNum': str, \n",
    "                                   'Div2Airport': str, 'Div2TailNum': str})\n",
    "\n",
    "# Randomly sample 500 data points. Setting the random state to be 42\n",
    "data = airline_data.sample(n = 500, random_state = 42)\n",
    "\n",
    "# Pie Chart Creation\n",
    "fig = px.pie(data, values='Flights', names='DistanceGroup', title='Distance group proportion by flights')\n"
   ]
  },
  {
   "cell_type": "code",
   "execution_count": 4,
   "id": "a3d3d800-31aa-41c9-b035-bfc92959468a",
   "metadata": {},
   "outputs": [],
   "source": [
    "# Task 2 TASK 2 - Create dash application and get the layout skeleton"
   ]
  },
  {
   "cell_type": "code",
   "execution_count": 12,
   "id": "1ea43f2a-be5c-460a-82b4-db593761d21c",
   "metadata": {},
   "outputs": [
    {
     "data": {
      "text/html": [
       "\n",
       "        <iframe\n",
       "            width=\"100%\"\n",
       "            height=\"650\"\n",
       "            src=\"http://127.0.0.1:8050/\"\n",
       "            frameborder=\"0\"\n",
       "            allowfullscreen\n",
       "            \n",
       "        ></iframe>\n",
       "        "
      ],
      "text/plain": [
       "<IPython.lib.display.IFrame at 0x16444bf10>"
      ]
     },
     "metadata": {},
     "output_type": "display_data"
    }
   ],
   "source": [
    "# Create a dash application\n",
    "app = dash.Dash(__name__)\n",
    "# Get the layout of the application and adjust it.\n",
    "# Create an outer division using html.Div and add title to the dashboard using html.H1 component\n",
    "# Add description about the graph using HTML P (paragraph) component\n",
    "# Finally, add graph component.\n",
    "app.layout = html.Div(children=[html.H1('Airline Dashboard', # Adding the application title\n",
    "                                        style={'textAlign': 'center', \n",
    "                                               'color': '#503D36', \n",
    "                                               'font-size': 40}),\n",
    "                                html.P('Proportion of distance group (250 mile distance interval group) by flights.', \n",
    "                                       style={'textAlign':'center', \n",
    "                                              'color': '#F57241'}),\n",
    "                                \n",
    "                                dcc.Graph(figure=fig),\n",
    "])\n",
    "# Run the application                   \n",
    "if __name__ == '__main__':\n",
    "    app.run()"
   ]
  }
 ],
 "metadata": {
  "kernelspec": {
   "display_name": "datavisualisation",
   "language": "python",
   "name": "python3"
  },
  "language_info": {
   "codemirror_mode": {
    "name": "ipython",
    "version": 3
   },
   "file_extension": ".py",
   "mimetype": "text/x-python",
   "name": "python",
   "nbconvert_exporter": "python",
   "pygments_lexer": "ipython3",
   "version": "3.8.15"
  }
 },
 "nbformat": 4,
 "nbformat_minor": 5
}
